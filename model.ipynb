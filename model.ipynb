{
 "cells": [
  {
   "cell_type": "markdown",
   "id": "e3896a32-fd48-456b-9a4f-b63858855615",
   "metadata": {},
   "source": [
    "# ifo Business Climate Index forecasting\n",
    "\n",
    "First of all we just make some simple normalisations. Our goal here is to train a super simple statistical model that is not going to embarrass us when someone runs it on a new batch of data next year. First of all we do some normalisation to get some clean data for fitting."
   ]
  },
  {
   "cell_type": "code",
   "execution_count": 1,
   "id": "9eeea65b-e649-4b2f-a770-bf59cc5983f6",
   "metadata": {},
   "outputs": [
    {
     "name": "stderr",
     "output_type": "stream",
     "text": [
      "/tmp/ipykernel_18115/2708311250.py:6: DtypeWarning: Columns (4,6,7) have mixed types. Specify dtype option on import or set low_memory=False.\n",
      "  data = pd.read_csv(\"/home/ifo_vo_ifo_hack2023_user/Desktop/project-directory/input/IBS_paneldata_train.csv\")\n"
     ]
    }
   ],
   "source": [
    "import pandas as pd\n",
    "import numpy as np\n",
    "from sklearn.linear_model import LogisticRegression\n",
    "from sklearn.model_selection import TimeSeriesSplit\n",
    "from sklearn.model_selection import train_test_split\n",
    "from sklearn.tree import DecisionTreeClassifier\n",
    "\n",
    "data = pd.read_csv(\"/home/ifo_vo_ifo_hack2023_user/Desktop/project-directory/input/IBS_paneldata_train.csv\")\n",
    "unique_ids_original = data['idnum'].unique()\n",
    "\n",
    "data = data[data['year'] > 2019]\n",
    "data['monthyear'] = 12 * (data['year']-1980) + data['month'] # Months since the beginning of the data series given to us\n",
    "columns_of_interest = ['vg_statebus', 'vg_comexp', 'vg_priceexp']\n",
    "data = data[['idnum', 'monthyear'] + columns_of_interest] # We're only looking at a small subset of the data here.\n",
    "data = data.dropna()\n",
    "data['idnum'] = data['idnum'].astype(int)\n",
    "for single_column_of_interest in columns_of_interest:\n",
    "    data[single_column_of_interest] = data[single_column_of_interest].astype(int)"
   ]
  },
  {
   "cell_type": "code",
   "execution_count": 2,
   "id": "a35e5914-5d6d-445b-8bff-7d5f219b7dac",
   "metadata": {},
   "outputs": [
    {
     "data": {
      "text/html": [
       "<div>\n",
       "<style scoped>\n",
       "    .dataframe tbody tr th:only-of-type {\n",
       "        vertical-align: middle;\n",
       "    }\n",
       "\n",
       "    .dataframe tbody tr th {\n",
       "        vertical-align: top;\n",
       "    }\n",
       "\n",
       "    .dataframe thead th {\n",
       "        text-align: right;\n",
       "    }\n",
       "</style>\n",
       "<table border=\"1\" class=\"dataframe\">\n",
       "  <thead>\n",
       "    <tr style=\"text-align: right;\">\n",
       "      <th></th>\n",
       "      <th>idnum</th>\n",
       "      <th>monthyear</th>\n",
       "      <th>vg_statebus</th>\n",
       "      <th>vg_comexp</th>\n",
       "      <th>vg_priceexp</th>\n",
       "    </tr>\n",
       "  </thead>\n",
       "  <tbody>\n",
       "    <tr>\n",
       "      <th>470</th>\n",
       "      <td>8034913</td>\n",
       "      <td>481</td>\n",
       "      <td>3</td>\n",
       "      <td>2</td>\n",
       "      <td>2</td>\n",
       "    </tr>\n",
       "    <tr>\n",
       "      <th>7982</th>\n",
       "      <td>8035588</td>\n",
       "      <td>484</td>\n",
       "      <td>3</td>\n",
       "      <td>3</td>\n",
       "      <td>2</td>\n",
       "    </tr>\n",
       "    <tr>\n",
       "      <th>7983</th>\n",
       "      <td>8035588</td>\n",
       "      <td>485</td>\n",
       "      <td>2</td>\n",
       "      <td>2</td>\n",
       "      <td>2</td>\n",
       "    </tr>\n",
       "    <tr>\n",
       "      <th>7987</th>\n",
       "      <td>8035588</td>\n",
       "      <td>489</td>\n",
       "      <td>2</td>\n",
       "      <td>2</td>\n",
       "      <td>2</td>\n",
       "    </tr>\n",
       "    <tr>\n",
       "      <th>7988</th>\n",
       "      <td>8035588</td>\n",
       "      <td>490</td>\n",
       "      <td>3</td>\n",
       "      <td>2</td>\n",
       "      <td>2</td>\n",
       "    </tr>\n",
       "    <tr>\n",
       "      <th>...</th>\n",
       "      <td>...</td>\n",
       "      <td>...</td>\n",
       "      <td>...</td>\n",
       "      <td>...</td>\n",
       "      <td>...</td>\n",
       "    </tr>\n",
       "    <tr>\n",
       "      <th>1808353</th>\n",
       "      <td>8164562</td>\n",
       "      <td>503</td>\n",
       "      <td>1</td>\n",
       "      <td>3</td>\n",
       "      <td>1</td>\n",
       "    </tr>\n",
       "    <tr>\n",
       "      <th>1808354</th>\n",
       "      <td>8164562</td>\n",
       "      <td>504</td>\n",
       "      <td>1</td>\n",
       "      <td>2</td>\n",
       "      <td>1</td>\n",
       "    </tr>\n",
       "    <tr>\n",
       "      <th>1808463</th>\n",
       "      <td>8164709</td>\n",
       "      <td>502</td>\n",
       "      <td>2</td>\n",
       "      <td>1</td>\n",
       "      <td>1</td>\n",
       "    </tr>\n",
       "    <tr>\n",
       "      <th>1808464</th>\n",
       "      <td>8164709</td>\n",
       "      <td>503</td>\n",
       "      <td>2</td>\n",
       "      <td>2</td>\n",
       "      <td>1</td>\n",
       "    </tr>\n",
       "    <tr>\n",
       "      <th>1808465</th>\n",
       "      <td>8164709</td>\n",
       "      <td>504</td>\n",
       "      <td>1</td>\n",
       "      <td>2</td>\n",
       "      <td>2</td>\n",
       "    </tr>\n",
       "  </tbody>\n",
       "</table>\n",
       "<p>50051 rows × 5 columns</p>\n",
       "</div>"
      ],
      "text/plain": [
       "           idnum  monthyear  vg_statebus  vg_comexp  vg_priceexp\n",
       "470      8034913        481            3          2            2\n",
       "7982     8035588        484            3          3            2\n",
       "7983     8035588        485            2          2            2\n",
       "7987     8035588        489            2          2            2\n",
       "7988     8035588        490            3          2            2\n",
       "...          ...        ...          ...        ...          ...\n",
       "1808353  8164562        503            1          3            1\n",
       "1808354  8164562        504            1          2            1\n",
       "1808463  8164709        502            2          1            1\n",
       "1808464  8164709        503            2          2            1\n",
       "1808465  8164709        504            1          2            2\n",
       "\n",
       "[50051 rows x 5 columns]"
      ]
     },
     "execution_count": 2,
     "metadata": {},
     "output_type": "execute_result"
    }
   ],
   "source": [
    "data"
   ]
  },
  {
   "cell_type": "code",
   "execution_count": 3,
   "id": "1df6a127-7ebb-459b-87c2-c4d6fade218c",
   "metadata": {},
   "outputs": [
    {
     "name": "stdout",
     "output_type": "stream",
     "text": [
      "(3123, 24, 3)\n"
     ]
    }
   ],
   "source": [
    "# It's hard to to machine learning on data that is in the sparse form given to us where we have some observations some of the time.\n",
    "# Instead, we would ideally like a dense time-series where for every respondent we have a response at every time in question.\n",
    "# So we make a table indexed by  [companies, monthly survey, question].\n",
    "arrays = []\n",
    "for single_column_of_interest in columns_of_interest:\n",
    "    pivot_table = data.pivot(index='idnum', columns='monthyear', values=single_column_of_interest).ffill(axis=1).fillna(1)\n",
    "    #print(pivot_table)\n",
    "    array = pivot_table.to_numpy()\n",
    "    arrays.append(array)\n",
    "big_array = np.stack(arrays).transpose((1,2,0))\n",
    "print(big_array.shape)"
   ]
  },
  {
   "cell_type": "code",
   "execution_count": 5,
   "id": "00eefba9-598f-409b-a43c-751be71a3c3b",
   "metadata": {},
   "outputs": [
    {
     "name": "stdout",
     "output_type": "stream",
     "text": [
      "(3123, 72)\n"
     ]
    }
   ],
   "source": [
    "big_array_flat = big_array.reshape((big_array.shape[0],-1))\n",
    "print(big_array_flat.shape)"
   ]
  },
  {
   "cell_type": "code",
   "execution_count": 6,
   "id": "766e9993-bbec-494a-a22c-067c2e87c534",
   "metadata": {},
   "outputs": [
    {
     "name": "stdout",
     "output_type": "stream",
     "text": [
      "Training accuracy for metric vg_priceexp: 0.8328886042622834\n",
      "Testing accuracy for metric vg_priceexp: 0.8291173017397802\n",
      "Training accuracy for metric vg_priceexp: 0.8328886042622834\n",
      "Testing accuracy for metric vg_priceexp: 0.8291173017397802\n",
      "Training accuracy for metric vg_priceexp: 0.8328886042622834\n",
      "Testing accuracy for metric vg_priceexp: 0.8291173017397802\n",
      "Average test accuracy: 0.8291173017397803\n",
      "Average train accuracy: 0.8328886042622834\n"
     ]
    }
   ],
   "source": [
    "# We do a train-test split so we can easily test a bunch of different models. The logistic regression below has virtually the same train and test accuracy\n",
    "# since it had so few parameters. But if you replaced the LogisticRegression(max_iter=10000) by a DecisionTreeClassifier() for example,you would see a wide divergence.\n",
    "prediction_results = {}\n",
    "n_shifts = 12\n",
    "max_lag = 5\n",
    "models = []\n",
    "n_cols = len(columns_of_interest)\n",
    "\n",
    "total_train_loss = 0\n",
    "total_test_loss = 0\n",
    "\n",
    "for i in range(n_cols):\n",
    "    #print(df_wide)\n",
    "    width = big_array_flat.shape[1]\n",
    "    array = []\n",
    "    for shift in range(n_shifts):\n",
    "        # This line is a bit misterious. We train the regression task to predict values one month into the future.\n",
    "        # For the training data we use train that for several amount of time shifted int he past.\n",
    "        array_part = big_array_flat[:,width-1-n_cols*shift-n_cols*max_lag:width-n_cols*shift]\n",
    "        array.append(array_part)\n",
    "    array = np.vstack(array)\n",
    "                                         \n",
    "    X = array[:,:-1]\n",
    "    y = array[:,-1]\n",
    "    X_train, X_test, y_train, y_test = train_test_split(X, y, test_size=0.25, random_state=3)\n",
    "    model = LogisticRegression(max_iter=10000)\n",
    "    model.fit(X_train, y_train)\n",
    "    models.append(model)\n",
    "    train_loss = model.score(X_train, y_train)\n",
    "    total_train_loss += train_loss\n",
    "    print(f'Training accuracy for metric {single_column_of_interest}: {train_loss}')\n",
    "    \n",
    "    test_loss = model.score(X_test, y_test)\n",
    "    total_test_loss += test_loss\n",
    "    print(f'Testing accuracy for metric {single_column_of_interest}: {test_loss}')\n",
    "\n",
    "print(f'Average test accuracy: {total_test_loss / 3}')\n",
    "print(f'Average train accuracy: {total_train_loss / 3}')"
   ]
  },
  {
   "cell_type": "code",
   "execution_count": 7,
   "id": "5495a5c7-e7de-4ec5-a582-1f75b2c0fc01",
   "metadata": {},
   "outputs": [],
   "source": [
    "# Here we then then apply or models repeatedly to forecast further into the future\n",
    "X_predicted = big_array_flat\n",
    "for j in range(12 * n_cols):\n",
    "    model = models[j % n_cols]\n",
    "    X_in = X_predicted[:,-n_cols*max_lag:]\n",
    "    #print('x_in',X_in.shape)\n",
    "    prediction = model.predict(X_in)\n",
    "    X_predicted = np.append(X_predicted, prediction[:,np.newaxis], axis=1)"
   ]
  },
  {
   "cell_type": "code",
   "execution_count": 8,
   "id": "15a6e892-eed9-4379-b32b-6bcc7387f4e5",
   "metadata": {},
   "outputs": [
    {
     "data": {
      "text/plain": [
       "(3123, 36, 3)"
      ]
     },
     "execution_count": 8,
     "metadata": {},
     "output_type": "execute_result"
    }
   ],
   "source": [
    "predicted_numpy = X_predicted.reshape((big_array_flat.shape[0],-1,3))\n",
    "predicted_numpy.shape"
   ]
  },
  {
   "cell_type": "code",
   "execution_count": 10,
   "id": "ab21a281-e7f0-46fe-821f-e665c51feb7e",
   "metadata": {},
   "outputs": [
    {
     "name": "stdout",
     "output_type": "stream",
     "text": [
      "[1. 2. 1. 2. 2. 2. 2. 3. 2. 2. 2. 2. 2. 2. 3. 2. 2. 2. 2. 2. 2. 2. 2. 2.\n",
      " 2. 2. 2. 2. 2. 2. 2. 2. 2. 2. 2. 2.]\n",
      "[1. 2. 1. 2. 2. 2. 2. 3. 2. 2. 2. 2. 2. 2. 3. 2. 2. 2. 2. 2. 2. 2. 2. 2.]\n"
     ]
    }
   ],
   "source": [
    "print(predicted_numpy[700,:,0])\n",
    "print(big_array[700,:,0])"
   ]
  },
  {
   "cell_type": "code",
   "execution_count": 11,
   "id": "2e2edf6f-9df1-45af-8cd7-43ecfaec42eb",
   "metadata": {},
   "outputs": [],
   "source": [
    "dfs = []\n",
    "for i in range(12):\n",
    "    single_month_df = pd.DataFrame(\n",
    "        {columns_of_interest[j]: predicted_numpy[:,-12+i,j] \n",
    "                                    for j\n",
    "                                 in range(len(columns_of_interest))\n",
    "        }\n",
    "    )\n",
    "    single_month_df['year'] = 2022\n",
    "    single_month_df['month'] = i+1\n",
    "    single_month_df['idnum'] = pivot_table.index\n",
    "    dfs.append(single_month_df)"
   ]
  },
  {
   "cell_type": "code",
   "execution_count": 12,
   "id": "9b878e2e-3250-4572-a833-ff87de171ddc",
   "metadata": {},
   "outputs": [
    {
     "data": {
      "text/html": [
       "<div>\n",
       "<style scoped>\n",
       "    .dataframe tbody tr th:only-of-type {\n",
       "        vertical-align: middle;\n",
       "    }\n",
       "\n",
       "    .dataframe tbody tr th {\n",
       "        vertical-align: top;\n",
       "    }\n",
       "\n",
       "    .dataframe thead th {\n",
       "        text-align: right;\n",
       "    }\n",
       "</style>\n",
       "<table border=\"1\" class=\"dataframe\">\n",
       "  <thead>\n",
       "    <tr style=\"text-align: right;\">\n",
       "      <th></th>\n",
       "      <th>vg_statebus</th>\n",
       "      <th>vg_comexp</th>\n",
       "      <th>vg_priceexp</th>\n",
       "      <th>year</th>\n",
       "      <th>month</th>\n",
       "      <th>idnum</th>\n",
       "    </tr>\n",
       "  </thead>\n",
       "  <tbody>\n",
       "    <tr>\n",
       "      <th>0</th>\n",
       "      <td>3.0</td>\n",
       "      <td>2.0</td>\n",
       "      <td>2.0</td>\n",
       "      <td>2022</td>\n",
       "      <td>1</td>\n",
       "      <td>8000019</td>\n",
       "    </tr>\n",
       "    <tr>\n",
       "      <th>1</th>\n",
       "      <td>1.0</td>\n",
       "      <td>2.0</td>\n",
       "      <td>2.0</td>\n",
       "      <td>2022</td>\n",
       "      <td>1</td>\n",
       "      <td>8000289</td>\n",
       "    </tr>\n",
       "    <tr>\n",
       "      <th>2</th>\n",
       "      <td>3.0</td>\n",
       "      <td>2.0</td>\n",
       "      <td>2.0</td>\n",
       "      <td>2022</td>\n",
       "      <td>1</td>\n",
       "      <td>8000473</td>\n",
       "    </tr>\n",
       "    <tr>\n",
       "      <th>3</th>\n",
       "      <td>3.0</td>\n",
       "      <td>2.0</td>\n",
       "      <td>2.0</td>\n",
       "      <td>2022</td>\n",
       "      <td>1</td>\n",
       "      <td>8000705</td>\n",
       "    </tr>\n",
       "    <tr>\n",
       "      <th>4</th>\n",
       "      <td>3.0</td>\n",
       "      <td>1.0</td>\n",
       "      <td>2.0</td>\n",
       "      <td>2022</td>\n",
       "      <td>1</td>\n",
       "      <td>8000879</td>\n",
       "    </tr>\n",
       "    <tr>\n",
       "      <th>...</th>\n",
       "      <td>...</td>\n",
       "      <td>...</td>\n",
       "      <td>...</td>\n",
       "      <td>...</td>\n",
       "      <td>...</td>\n",
       "      <td>...</td>\n",
       "    </tr>\n",
       "    <tr>\n",
       "      <th>3118</th>\n",
       "      <td>2.0</td>\n",
       "      <td>1.0</td>\n",
       "      <td>1.0</td>\n",
       "      <td>2022</td>\n",
       "      <td>12</td>\n",
       "      <td>8164814</td>\n",
       "    </tr>\n",
       "    <tr>\n",
       "      <th>3119</th>\n",
       "      <td>1.0</td>\n",
       "      <td>2.0</td>\n",
       "      <td>1.0</td>\n",
       "      <td>2022</td>\n",
       "      <td>12</td>\n",
       "      <td>8164815</td>\n",
       "    </tr>\n",
       "    <tr>\n",
       "      <th>3120</th>\n",
       "      <td>1.0</td>\n",
       "      <td>1.0</td>\n",
       "      <td>1.0</td>\n",
       "      <td>2022</td>\n",
       "      <td>12</td>\n",
       "      <td>8164816</td>\n",
       "    </tr>\n",
       "    <tr>\n",
       "      <th>3121</th>\n",
       "      <td>1.0</td>\n",
       "      <td>2.0</td>\n",
       "      <td>1.0</td>\n",
       "      <td>2022</td>\n",
       "      <td>12</td>\n",
       "      <td>8164817</td>\n",
       "    </tr>\n",
       "    <tr>\n",
       "      <th>3122</th>\n",
       "      <td>2.0</td>\n",
       "      <td>1.0</td>\n",
       "      <td>2.0</td>\n",
       "      <td>2022</td>\n",
       "      <td>12</td>\n",
       "      <td>8164818</td>\n",
       "    </tr>\n",
       "  </tbody>\n",
       "</table>\n",
       "<p>37476 rows × 6 columns</p>\n",
       "</div>"
      ],
      "text/plain": [
       "      vg_statebus  vg_comexp  vg_priceexp  year  month    idnum\n",
       "0             3.0        2.0          2.0  2022      1  8000019\n",
       "1             1.0        2.0          2.0  2022      1  8000289\n",
       "2             3.0        2.0          2.0  2022      1  8000473\n",
       "3             3.0        2.0          2.0  2022      1  8000705\n",
       "4             3.0        1.0          2.0  2022      1  8000879\n",
       "...           ...        ...          ...   ...    ...      ...\n",
       "3118          2.0        1.0          1.0  2022     12  8164814\n",
       "3119          1.0        2.0          1.0  2022     12  8164815\n",
       "3120          1.0        1.0          1.0  2022     12  8164816\n",
       "3121          1.0        2.0          1.0  2022     12  8164817\n",
       "3122          2.0        1.0          2.0  2022     12  8164818\n",
       "\n",
       "[37476 rows x 6 columns]"
      ]
     },
     "execution_count": 12,
     "metadata": {},
     "output_type": "execute_result"
    }
   ],
   "source": [
    "all_results = pd.concat(dfs)\n",
    "all_results"
   ]
  },
  {
   "cell_type": "code",
   "execution_count": 13,
   "id": "bae0dd77-a028-4bd5-9dd4-1498e93e01ff",
   "metadata": {},
   "outputs": [
    {
     "name": "stdout",
     "output_type": "stream",
     "text": [
      "13421\n",
      "3123\n"
     ]
    }
   ],
   "source": [
    "# We don't actually end up producing an explicit forecast for the majority of businesses in the dataset.\n",
    "# This is because most businesse shave not answered in the recent past where we train.\n",
    "# They might be unlikely to give an answer now (a lot of the businesses might be long out of business) but it doesn't hurt to have some forecast for the scoring.\n",
    "# To still have some prediction even without a real recent history for us to regress on, we just guess.\n",
    "predicted_ids = all_results['idnum'].unique()\n",
    "print(len(unique_ids_original))\n",
    "print(len(predicted_ids))"
   ]
  },
  {
   "cell_type": "code",
   "execution_count": 14,
   "id": "32eba1b9-d7b6-4ad3-97e6-a7a7a4dbb594",
   "metadata": {},
   "outputs": [
    {
     "data": {
      "text/plain": [
       "numpy.ndarray"
      ]
     },
     "execution_count": 14,
     "metadata": {},
     "output_type": "execute_result"
    }
   ],
   "source": [
    "type(predicted_ids)"
   ]
  },
  {
   "cell_type": "code",
   "execution_count": 15,
   "id": "0875af50-77bd-4a0a-9a97-1e54a9f44b70",
   "metadata": {},
   "outputs": [],
   "source": [
    "leftover_users = np.setdiff1d(unique_ids_original, predicted_ids)"
   ]
  },
  {
   "cell_type": "code",
   "execution_count": 16,
   "id": "bdbec4a1-35f5-40a0-b125-65ddc6e5aff4",
   "metadata": {},
   "outputs": [
    {
     "name": "stderr",
     "output_type": "stream",
     "text": [
      "/tmp/ipykernel_18115/1110137078.py:13: FutureWarning: The frame.append method is deprecated and will be removed from pandas in a future version. Use pandas.concat instead.\n",
      "  all_results = all_results.append(leftover_results)\n"
     ]
    }
   ],
   "source": [
    "dfs = []\n",
    "for i in range(12):\n",
    "    single_month_df = pd.DataFrame(\n",
    "        {'idnum': leftover_users}\n",
    "    )\n",
    "    single_month_df['year'] = 2022\n",
    "    single_month_df['month'] = i+1\n",
    "    single_month_df['vg_statebus'] = 1\n",
    "    single_month_df['vg_comexp'] = 1\n",
    "    single_month_df['vg_priceexp'] = 1\n",
    "    dfs.append(single_month_df)\n",
    "leftover_results = pd.concat(dfs)\n",
    "all_results = all_results.append(leftover_results)"
   ]
  },
  {
   "cell_type": "code",
   "execution_count": 17,
   "id": "5d20e0aa-ebfd-42f5-b439-8a5c6d96dd25",
   "metadata": {},
   "outputs": [
    {
     "data": {
      "text/plain": [
       "13421"
      ]
     },
     "execution_count": 17,
     "metadata": {},
     "output_type": "execute_result"
    }
   ],
   "source": [
    "len(all_results['idnum'].unique())"
   ]
  },
  {
   "cell_type": "code",
   "execution_count": 18,
   "id": "6f959a3e-ba97-4165-a620-4951701a70f2",
   "metadata": {},
   "outputs": [],
   "source": [
    "all_results.to_csv('ForecastFanatics_eval_submission.csv', index=False)"
   ]
  },
  {
   "cell_type": "code",
   "execution_count": null,
   "id": "a18355d7-2bb8-4d60-9fa6-fec7ff891a52",
   "metadata": {},
   "outputs": [],
   "source": []
  }
 ],
 "metadata": {
  "kernelspec": {
   "display_name": "Python 3 (ipykernel)",
   "language": "python",
   "name": "python3"
  },
  "language_info": {
   "codemirror_mode": {
    "name": "ipython",
    "version": 3
   },
   "file_extension": ".py",
   "mimetype": "text/x-python",
   "name": "python",
   "nbconvert_exporter": "python",
   "pygments_lexer": "ipython3",
   "version": "3.9.7"
  }
 },
 "nbformat": 4,
 "nbformat_minor": 5
}
