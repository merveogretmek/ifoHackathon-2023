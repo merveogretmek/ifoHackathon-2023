{
 "cells": [
  {
   "cell_type": "markdown",
   "id": "9451cf65-d913-4f44-baa5-eb1bfa4c7df0",
   "metadata": {},
   "source": [
    "# Associating sectors to the data\n",
    "This generates a file to associate the WZ93 economic sector classification to each survey respondent."
   ]
  },
  {
   "cell_type": "code",
   "execution_count": 1,
   "id": "dcc9cbe9",
   "metadata": {},
   "outputs": [],
   "source": [
    "import pandas as pd\n",
    "import json\n",
    "\n",
    "FILE_PATH = '/home/ifo_vo_ifo_hack2023_user/Desktop/project-directory/input/IBS_basedata_train.csv'\n",
    "\n",
    "df = pd.read_csv(FILE_PATH)"
   ]
  },
  {
   "cell_type": "code",
   "execution_count": 4,
   "id": "64aa3932",
   "metadata": {},
   "outputs": [],
   "source": [
    "df = df.dropna(subset=['sector_wz93','idnum'])\n",
    "df['sector_wz93'] = df['sector_wz93'].astype(int)\n",
    "df['idnum'] = df['idnum'].astype(int)\n",
    "df = df[df['sector_wz93'] != 0]"
   ]
  },
  {
   "cell_type": "code",
   "execution_count": 5,
   "id": "a62f7a07",
   "metadata": {},
   "outputs": [],
   "source": [
    "def get_first_two_digits_wz93(number):\n",
    "    \"\"\"\n",
    "    The WZ93 classification numbers are always 5 digits (if you include a possible leading zero). The roughest level of the hierarchy is given by the first two digits.\n",
    "    \"\"\"\n",
    "    if len(str(number)) > 4:\n",
    "        return int(str(number)[:2])\n",
    "    return int(str(number)[0])\n",
    "df['sector_rough'] = df['sector_wz93'].apply(get_first_two_digits_wz93)"
   ]
  },
  {
   "cell_type": "code",
   "execution_count": 9,
   "id": "27009782",
   "metadata": {},
   "outputs": [
    {
     "data": {
      "text/plain": [
       "0          21\n",
       "1          21\n",
       "2          21\n",
       "3          21\n",
       "4          21\n",
       "           ..\n",
       "1808465    29\n",
       "1808489    20\n",
       "1808510    25\n",
       "1808514    25\n",
       "1808515    35\n",
       "Name: sector_rough, Length: 1523519, dtype: int64"
      ]
     },
     "execution_count": 9,
     "metadata": {},
     "output_type": "execute_result"
    }
   ],
   "source": [
    "df['sector_rough']"
   ]
  },
  {
   "cell_type": "code",
   "execution_count": 10,
   "id": "6ad16345",
   "metadata": {},
   "outputs": [],
   "source": [
    "pairs = df[['sector_rough', 'idnum']].drop_duplicates(subset='idnum')"
   ]
  },
  {
   "cell_type": "code",
   "execution_count": 11,
   "id": "49186800",
   "metadata": {},
   "outputs": [
    {
     "data": {
      "text/html": [
       "<div>\n",
       "<style scoped>\n",
       "    .dataframe tbody tr th:only-of-type {\n",
       "        vertical-align: middle;\n",
       "    }\n",
       "\n",
       "    .dataframe tbody tr th {\n",
       "        vertical-align: top;\n",
       "    }\n",
       "\n",
       "    .dataframe thead th {\n",
       "        text-align: right;\n",
       "    }\n",
       "</style>\n",
       "<table border=\"1\" class=\"dataframe\">\n",
       "  <thead>\n",
       "    <tr style=\"text-align: right;\">\n",
       "      <th></th>\n",
       "      <th>sector_rough</th>\n",
       "      <th>idnum</th>\n",
       "    </tr>\n",
       "  </thead>\n",
       "  <tbody>\n",
       "    <tr>\n",
       "      <th>0</th>\n",
       "      <td>21</td>\n",
       "      <td>8034913</td>\n",
       "    </tr>\n",
       "    <tr>\n",
       "      <th>542</th>\n",
       "      <td>31</td>\n",
       "      <td>8015616</td>\n",
       "    </tr>\n",
       "    <tr>\n",
       "      <th>706</th>\n",
       "      <td>31</td>\n",
       "      <td>8068851</td>\n",
       "    </tr>\n",
       "    <tr>\n",
       "      <th>812</th>\n",
       "      <td>31</td>\n",
       "      <td>8071898</td>\n",
       "    </tr>\n",
       "    <tr>\n",
       "      <th>948</th>\n",
       "      <td>21</td>\n",
       "      <td>8036011</td>\n",
       "    </tr>\n",
       "    <tr>\n",
       "      <th>...</th>\n",
       "      <td>...</td>\n",
       "      <td>...</td>\n",
       "    </tr>\n",
       "    <tr>\n",
       "      <th>1808344</th>\n",
       "      <td>26</td>\n",
       "      <td>8164786</td>\n",
       "    </tr>\n",
       "    <tr>\n",
       "      <th>1808346</th>\n",
       "      <td>15</td>\n",
       "      <td>8164788</td>\n",
       "    </tr>\n",
       "    <tr>\n",
       "      <th>1808350</th>\n",
       "      <td>28</td>\n",
       "      <td>8164562</td>\n",
       "    </tr>\n",
       "    <tr>\n",
       "      <th>1808462</th>\n",
       "      <td>17</td>\n",
       "      <td>8075867</td>\n",
       "    </tr>\n",
       "    <tr>\n",
       "      <th>1808463</th>\n",
       "      <td>29</td>\n",
       "      <td>8164709</td>\n",
       "    </tr>\n",
       "  </tbody>\n",
       "</table>\n",
       "<p>12953 rows × 2 columns</p>\n",
       "</div>"
      ],
      "text/plain": [
       "         sector_rough    idnum\n",
       "0                  21  8034913\n",
       "542                31  8015616\n",
       "706                31  8068851\n",
       "812                31  8071898\n",
       "948                21  8036011\n",
       "...               ...      ...\n",
       "1808344            26  8164786\n",
       "1808346            15  8164788\n",
       "1808350            28  8164562\n",
       "1808462            17  8075867\n",
       "1808463            29  8164709\n",
       "\n",
       "[12953 rows x 2 columns]"
      ]
     },
     "execution_count": 11,
     "metadata": {},
     "output_type": "execute_result"
    }
   ],
   "source": [
    "pairs"
   ]
  },
  {
   "cell_type": "code",
   "execution_count": 12,
   "id": "d5c8cac3",
   "metadata": {},
   "outputs": [],
   "source": [
    "d = dict(zip(pairs.idnum, pairs.sector_rough))\n",
    "with open('sector.json', 'w') as file:\n",
    "    json.dump(d, file)"
   ]
  },
  {
   "cell_type": "code",
   "execution_count": null,
   "id": "79bc0517",
   "metadata": {},
   "outputs": [],
   "source": []
  }
 ],
 "metadata": {
  "kernelspec": {
   "display_name": "Python 3 (ipykernel)",
   "language": "python",
   "name": "python3"
  },
  "language_info": {
   "codemirror_mode": {
    "name": "ipython",
    "version": 3
   },
   "file_extension": ".py",
   "mimetype": "text/x-python",
   "name": "python",
   "nbconvert_exporter": "python",
   "pygments_lexer": "ipython3",
   "version": "3.9.7"
  }
 },
 "nbformat": 4,
 "nbformat_minor": 5
}
